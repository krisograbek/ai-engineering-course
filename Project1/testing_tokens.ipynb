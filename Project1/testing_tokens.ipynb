{
 "cells": [
  {
   "cell_type": "code",
   "execution_count": 1,
   "metadata": {},
   "outputs": [
    {
     "data": {
      "text/plain": [
       "True"
      ]
     },
     "execution_count": 1,
     "metadata": {},
     "output_type": "execute_result"
    }
   ],
   "source": [
    "from dotenv import load_dotenv\n",
    "\n",
    "load_dotenv()"
   ]
  },
  {
   "cell_type": "code",
   "execution_count": 7,
   "metadata": {},
   "outputs": [
    {
     "name": "stdout",
     "output_type": "stream",
     "text": [
      "Poland is a Central European country known for its rich history, vibrant culture, and resilient spirit. It boasts a diverse landscape that ranges from the sandy beaches of the Baltic Sea to the rugged peaks of the Carpathian Mountains. Major cities like Warsaw, Krakow, and Gdansk blend historical architecture with modern amenities, reflecting Poland's dynamic evolution over the centuries.\n"
     ]
    }
   ],
   "source": [
    "from openai import OpenAI\n",
    "\n",
    "client = OpenAI()\n",
    "\n",
    "model = \"gpt-4o\"\n",
    "\n",
    "completion = client.chat.completions.create(\n",
    "    model=model,\n",
    "    messages=[\n",
    "        {\"role\": \"user\", \"content\": \"Describe Poland in 3 sentences\"}\n",
    "    ]\n",
    ")\n",
    "\n",
    "response = completion.choices[0].message.content\n",
    "print(response)\n"
   ]
  },
  {
   "cell_type": "markdown",
   "metadata": {},
   "source": [
    "Original description:\n",
    "\n",
    "Poland is a Central European country known for its rich history, vibrant culture, and resilient spirit. It boasts a diverse landscape that ranges from the sandy beaches of the Baltic Sea to the rugged peaks of the Carpathian Mountains. Major cities like Warsaw, Krakow, and Gdansk blend historical architecture with modern amenities, reflecting Poland's dynamic evolution over the centuries."
   ]
  },
  {
   "cell_type": "markdown",
   "metadata": {},
   "source": [
    "Count words"
   ]
  },
  {
   "cell_type": "code",
   "execution_count": 9,
   "metadata": {},
   "outputs": [
    {
     "name": "stdout",
     "output_type": "stream",
     "text": [
      "The response has 59 words and 391 characters.\n"
     ]
    }
   ],
   "source": [
    "words = len(response.split())\n",
    "characters = len(response)\n",
    "\n",
    "print(f\"The response has {words} words and {characters} characters.\")"
   ]
  },
  {
   "cell_type": "code",
   "execution_count": 3,
   "metadata": {},
   "outputs": [],
   "source": [
    "import tiktoken\n",
    "\n",
    "enc = tiktoken.encoding_for_model(\"gpt-4o-mini\")"
   ]
  },
  {
   "cell_type": "code",
   "execution_count": 12,
   "metadata": {},
   "outputs": [
    {
     "name": "stdout",
     "output_type": "stream",
     "text": [
      "The translation has 74 tokens.\n"
     ]
    }
   ],
   "source": [
    "tokens = enc.encode(response)\n",
    "print(f\"The response has {len(tokens)} tokens.\")"
   ]
  },
  {
   "cell_type": "code",
   "execution_count": 10,
   "metadata": {},
   "outputs": [
    {
     "name": "stdout",
     "output_type": "stream",
     "text": [
      "Polska jest krajem w Europie Środkowej znanym z bogatej historii, żywej kultury i niezłomnego ducha. Posiada zróżnicowany krajobraz, który obejmuje piaszczyste plaże nad Morzem Bałtyckim oraz surowe szczyty Karpat. Główne miasta takie jak Warszawa, Kraków i Gdańsk łączą historyczną architekturę z nowoczesnymi udogodnieniami, co odzwierciedla dynamiczną ewolucję Polski na przestrzeni wieków.\n"
     ]
    }
   ],
   "source": [
    "prompt = \"Translate to Polish the following: \" + response\n",
    "\n",
    "polish = client.chat.completions.create(\n",
    "    model=model,\n",
    "    messages=[\n",
    "        {\"role\": \"user\", \"content\": prompt}\n",
    "    ]\n",
    ")\n",
    "\n",
    "translation = polish.choices[0].message.content\n",
    "print(translation)"
   ]
  },
  {
   "cell_type": "code",
   "execution_count": 11,
   "metadata": {},
   "outputs": [
    {
     "name": "stdout",
     "output_type": "stream",
     "text": [
      "The translation has 51 words and 393 characters.\n"
     ]
    }
   ],
   "source": [
    "words = len(translation.split())\n",
    "characters = len(translation)\n",
    "\n",
    "print(f\"The translation has {words} words and {characters} characters.\")"
   ]
  },
  {
   "cell_type": "code",
   "execution_count": 13,
   "metadata": {},
   "outputs": [
    {
     "name": "stdout",
     "output_type": "stream",
     "text": [
      "The translation has 126 tokens.\n"
     ]
    }
   ],
   "source": [
    "tokens_tr = enc.encode(translation)\n",
    "print(f\"The translation has {len(tokens_tr)} tokens.\")"
   ]
  },
  {
   "cell_type": "code",
   "execution_count": 14,
   "metadata": {},
   "outputs": [
    {
     "data": {
      "text/plain": [
       "74"
      ]
     },
     "execution_count": 14,
     "metadata": {},
     "output_type": "execute_result"
    }
   ],
   "source": [
    "import tiktoken\n",
    "\n",
    "enc2 = tiktoken.get_encoding(\"o200k_base\")\n",
    "\n",
    "len(enc2.encode(response))"
   ]
  },
  {
   "cell_type": "markdown",
   "metadata": {},
   "source": []
  },
  {
   "cell_type": "code",
   "execution_count": 1,
   "metadata": {},
   "outputs": [],
   "source": [
    "or_response = \"Poland is a Central European country known for its rich history, vibrant culture, and resilient spirit. It boasts a diverse landscape that ranges from the sandy beaches of the Baltic Sea to the rugged peaks of the Carpathian Mountains. Major cities like Warsaw, Krakow, and Gdansk blend historical architecture with modern amenities, reflecting Poland's dynamic evolution over the centuries.\""
   ]
  },
  {
   "cell_type": "code",
   "execution_count": 13,
   "metadata": {},
   "outputs": [
    {
     "name": "stdout",
     "output_type": "stream",
     "text": [
      "[7651, 427, 382, 261, 13399, 11836, 4931, 5542, 395, 1617, 10358, 5678, 11, 35180, 9674, 11, 326, 84089, 10767, 13, 1225, 45644, 261, 15174, 23659, 484, 33269, 591, 290, 86902, 39733, 328, 290, 128005, 22114, 316, 290, 75482, 50342, 328, 290, 4004, 4189, 1200, 56820, 13, 27974, 15636, 1299, 136769, 11, 110662, 384, 11, 326, 499, 67, 47090, 25306, 19322, 24022, 483, 6809, 27246, 11, 66890, 50029, 885, 14012, 26416, 1072, 290, 39264, 13]\n"
     ]
    }
   ],
   "source": [
    "import tiktoken\n",
    "\n",
    "enc = tiktoken.get_encoding(\"o200k_base\")\n",
    "\n",
    "print(enc.encode(or_response))"
   ]
  },
  {
   "cell_type": "markdown",
   "metadata": {},
   "source": [
    "Change the model encoding"
   ]
  },
  {
   "cell_type": "code",
   "execution_count": 14,
   "metadata": {},
   "outputs": [
    {
     "name": "stdout",
     "output_type": "stream",
     "text": [
      "[15000, 438, 374, 264, 10913, 7665, 3224, 3967, 369, 1202, 9257, 3925, 11, 34076, 7829, 11, 323, 59780, 9090, 13, 1102, 38119, 264, 17226, 18921, 430, 21986, 505, 279, 68539, 35909, 315, 279, 73089, 15379, 311, 279, 55883, 40035, 315, 279, 3341, 2398, 1122, 41114, 13, 17559, 9919, 1093, 73276, 11, 89543, 363, 11, 323, 480, 67, 41874, 20955, 13970, 18112, 449, 6617, 36483, 11, 42852, 28702, 596, 8915, 15740, 927, 279, 24552, 13]\n"
     ]
    }
   ],
   "source": [
    "import tiktoken\n",
    "\n",
    "enc_gpt3 = tiktoken.encoding_for_model(\"gpt-3.5-turbo\")\n",
    "\n",
    "print(enc_gpt3.encode(or_response))"
   ]
  },
  {
   "cell_type": "code",
   "execution_count": 5,
   "metadata": {},
   "outputs": [],
   "source": [
    "from dotenv import load_dotenv\n",
    "from openai import OpenAI\n",
    "\n",
    "load_dotenv()\n",
    "\n",
    "\n",
    "client = OpenAI()\n",
    "\n",
    "gpt4o = \"gpt-4o\""
   ]
  },
  {
   "cell_type": "code",
   "execution_count": 6,
   "metadata": {},
   "outputs": [
    {
     "name": "stdout",
     "output_type": "stream",
     "text": [
      "Polen ist ein mitteleuropäisches Land, das für seine reiche Geschichte, seine lebendige Kultur und seinen widerstandsfähigen Geist bekannt ist. Es verfügt über eine vielfältige Landschaft, die von den Sandstränden der Ostsee bis zu den zerklüfteten Gipfeln der Karpaten reicht. Große Städte wie Warschau, Krakau und Danzig verbinden historische Architektur mit modernen Annehmlichkeiten und spiegeln die dynamische Entwicklung Polens im Laufe der Jahrhunderte wider.\n"
     ]
    }
   ],
   "source": [
    "gprompt = \"Translate to German the following: \" + or_response\n",
    "\n",
    "german = client.chat.completions.create(\n",
    "    model=gpt4o,\n",
    "    messages=[\n",
    "        {\"role\": \"user\", \"content\": gprompt}\n",
    "    ]\n",
    ")\n",
    "\n",
    "gtranslation = german.choices[0].message.content\n",
    "print(gtranslation)"
   ]
  },
  {
   "cell_type": "code",
   "execution_count": 7,
   "metadata": {},
   "outputs": [
    {
     "name": "stdout",
     "output_type": "stream",
     "text": [
      "The gtranslation has 63 words and 466 characters.\n"
     ]
    }
   ],
   "source": [
    "words = len(gtranslation.split())\n",
    "characters = len(gtranslation)\n",
    "\n",
    "print(f\"The gtranslation has {words} words and {characters} characters.\")"
   ]
  },
  {
   "cell_type": "code",
   "execution_count": 10,
   "metadata": {},
   "outputs": [
    {
     "name": "stdout",
     "output_type": "stream",
     "text": [
      "The translation has 106 tokens.\n"
     ]
    }
   ],
   "source": [
    "import tiktoken\n",
    "\n",
    "enc2 = tiktoken.get_encoding(\"o200k_base\")\n",
    "\n",
    "tokens_g = enc2.encode(gtranslation)\n",
    "print(f\"The translation has {len(tokens_g)} tokens.\")"
   ]
  },
  {
   "cell_type": "code",
   "execution_count": null,
   "metadata": {},
   "outputs": [],
   "source": []
  }
 ],
 "metadata": {
  "kernelspec": {
   "display_name": "venv",
   "language": "python",
   "name": "python3"
  },
  "language_info": {
   "codemirror_mode": {
    "name": "ipython",
    "version": 3
   },
   "file_extension": ".py",
   "mimetype": "text/x-python",
   "name": "python",
   "nbconvert_exporter": "python",
   "pygments_lexer": "ipython3",
   "version": "3.9.12"
  }
 },
 "nbformat": 4,
 "nbformat_minor": 2
}
